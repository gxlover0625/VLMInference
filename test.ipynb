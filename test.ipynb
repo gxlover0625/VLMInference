{
 "cells": [
  {
   "cell_type": "code",
   "execution_count": 1,
   "metadata": {},
   "outputs": [],
   "source": [
    "from vlminference.models import InternVL2ForInferBasic"
   ]
  },
  {
   "cell_type": "code",
   "execution_count": 2,
   "metadata": {},
   "outputs": [],
   "source": [
    "model_path = \"/root/autodl-tmp/llm/OpenGVLab/InternVL2-8\""
   ]
  },
  {
   "cell_type": "code",
   "execution_count": 3,
   "metadata": {},
   "outputs": [
    {
     "name": "stdout",
     "output_type": "stream",
     "text": [
      "FlashAttention is not installed.\n",
      "Warning: Flash Attention is not available, use_flash_attn is set to False.\n",
      "Warning: Flash Attention is not available, use_flash_attn is set to False.\n",
      "Warning: Flash Attention is not available, use_flash_attn is set to False.\n",
      "Warning: Flash Attention is not available, use_flash_attn is set to False.\n",
      "Warning: Flash Attention is not available, use_flash_attn is set to False.\n",
      "Warning: Flash Attention is not available, use_flash_attn is set to False.\n",
      "Warning: Flash Attention is not available, use_flash_attn is set to False.\n",
      "Warning: Flash Attention is not available, use_flash_attn is set to False.\n",
      "Warning: Flash Attention is not available, use_flash_attn is set to False.\n",
      "Warning: Flash Attention is not available, use_flash_attn is set to False.\n",
      "Warning: Flash Attention is not available, use_flash_attn is set to False.\n",
      "Warning: Flash Attention is not available, use_flash_attn is set to False.\n",
      "Warning: Flash Attention is not available, use_flash_attn is set to False.\n",
      "Warning: Flash Attention is not available, use_flash_attn is set to False.\n",
      "Warning: Flash Attention is not available, use_flash_attn is set to False.\n",
      "Warning: Flash Attention is not available, use_flash_attn is set to False.\n",
      "Warning: Flash Attention is not available, use_flash_attn is set to False.\n",
      "Warning: Flash Attention is not available, use_flash_attn is set to False.\n",
      "Warning: Flash Attention is not available, use_flash_attn is set to False.\n",
      "Warning: Flash Attention is not available, use_flash_attn is set to False.\n",
      "Warning: Flash Attention is not available, use_flash_attn is set to False.\n",
      "Warning: Flash Attention is not available, use_flash_attn is set to False.\n",
      "Warning: Flash Attention is not available, use_flash_attn is set to False.\n",
      "Warning: Flash Attention is not available, use_flash_attn is set to False.\n",
      "Warning: Flash attention is not available, using eager attention instead.\n"
     ]
    },
    {
     "data": {
      "application/vnd.jupyter.widget-view+json": {
       "model_id": "9cf99b2dc0bc471a8d5653180e86c8b3",
       "version_major": 2,
       "version_minor": 0
      },
      "text/plain": [
       "Loading checkpoint shards:   0%|          | 0/4 [00:00<?, ?it/s]"
      ]
     },
     "metadata": {},
     "output_type": "display_data"
    },
    {
     "name": "stderr",
     "output_type": "stream",
     "text": [
      "Special tokens have been added in the vocabulary, make sure the associated word embeddings are fine-tuned or trained.\n"
     ]
    }
   ],
   "source": [
    "infer_engine = InternVL2ForInferBasic(model_path)"
   ]
  },
  {
   "cell_type": "code",
   "execution_count": 4,
   "metadata": {},
   "outputs": [
    {
     "data": {
      "text/plain": [
       "'你好！有什么我可以帮忙的吗？'"
      ]
     },
     "execution_count": 4,
     "metadata": {},
     "output_type": "execute_result"
    }
   ],
   "source": [
    "infer_engine.infer(query=\"你好\")"
   ]
  },
  {
   "cell_type": "code",
   "execution_count": 5,
   "metadata": {},
   "outputs": [
    {
     "data": {
      "text/plain": [
       "'这张图片展示了一个具有人类和猿猴特征的生物。这个生物有着浓密的灰色胡须和头发，面部表情严肃，眉头紧锁，似乎在思考或准备战斗。他穿着一件带有复杂花纹和装饰的盔甲，盔甲的肩部有明显的尖刺设计，显得非常威武和具有攻击性。背景是深色的，突出了这个生物的形象。整体上，这个生物给人一种强大、神秘和具有战斗力的感觉。'"
      ]
     },
     "execution_count": 5,
     "metadata": {},
     "output_type": "execute_result"
    }
   ],
   "source": [
    "infer_engine.infer(query=\"请问图片描述了什么?\", imgs=[\"https://pics2.baidu.com/feed/5fdf8db1cb134954c2cf747afaad1256d3094ac9.jpeg@f_auto?token=0bf831236694aa17f22472ecf754c349\"])"
   ]
  },
  {
   "cell_type": "code",
   "execution_count": 6,
   "metadata": {},
   "outputs": [
    {
     "data": {
      "text/plain": [
       "'这两张图片分别描述了不同的场景和人物。\\n\\n图片1：\\n这张图片展示了一位身穿古代盔甲的战士，手持双刀，站在云雾缭绕的山谷中。背景是陡峭的悬崖和茂密的植被，给人一种神秘和壮丽的感觉。战士的姿态和装备表明他可能是一位高阶战士或英雄人物，正在准备迎接挑战或战斗。\\n\\n图片2：\\n这张图片展示了一位男性站在一个科技感十足的舞台上，背景是一个巨大的发光标志和中文文字。他穿着休闲装，手里拿着一个文件夹或笔记本，似乎正在进行演讲或展示。背景中的标志和文字可能与某个科技公司或产品有关，整体氛围显得非常现代和专业。\\n\\n这两张图片分别展示了古代战士和现代科技展示的场景，反映了不同的文化和时代背景。'"
      ]
     },
     "execution_count": 6,
     "metadata": {},
     "output_type": "execute_result"
    }
   ],
   "source": [
    "infer_engine.infer(query=\"两张图片描述了什么?\", imgs=[\"https://img0.baidu.com/it/u=988029456,857207796&fm=253&fmt=auto&app=138&f=JPEG?w=889&h=500\",\"https://img0.baidu.com/it/u=1337497603,3721778628&fm=253&fmt=auto&app=138&f=JPEG?w=750&h=500\"])"
   ]
  },
  {
   "cell_type": "code",
   "execution_count": null,
   "metadata": {},
   "outputs": [],
   "source": []
  },
  {
   "cell_type": "code",
   "execution_count": null,
   "metadata": {},
   "outputs": [],
   "source": []
  },
  {
   "cell_type": "code",
   "execution_count": null,
   "metadata": {},
   "outputs": [],
   "source": []
  },
  {
   "cell_type": "code",
   "execution_count": null,
   "metadata": {},
   "outputs": [],
   "source": []
  }
 ],
 "metadata": {
  "kernelspec": {
   "display_name": "internvl",
   "language": "python",
   "name": "python3"
  },
  "language_info": {
   "codemirror_mode": {
    "name": "ipython",
    "version": 3
   },
   "file_extension": ".py",
   "mimetype": "text/x-python",
   "name": "python",
   "nbconvert_exporter": "python",
   "pygments_lexer": "ipython3",
   "version": "3.9.19"
  }
 },
 "nbformat": 4,
 "nbformat_minor": 2
}
